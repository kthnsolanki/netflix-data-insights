{
 "cells": [
  {
   "cell_type": "code",
   "execution_count": 72,
   "id": "351e28d7-89b1-4320-9996-cd02e09c4feb",
   "metadata": {},
   "outputs": [],
   "source": [
    "import pandas as pd\n",
    "import matplotlib.pyplot as plt\n",
    "%matplotlib inline"
   ]
  },
  {
   "cell_type": "code",
   "execution_count": 2,
   "id": "088b49c0-e1b4-43ae-84c2-db4cffaae5d2",
   "metadata": {},
   "outputs": [],
   "source": [
    "df = pd.read_csv(\"netflix.csv\")"
   ]
  },
  {
   "cell_type": "code",
   "execution_count": 44,
   "id": "79e23de2-7472-4295-a1a1-8e85245ee6a6",
   "metadata": {},
   "outputs": [
    {
     "data": {
      "text/html": [
       "<div>\n",
       "<style scoped>\n",
       "    .dataframe tbody tr th:only-of-type {\n",
       "        vertical-align: middle;\n",
       "    }\n",
       "\n",
       "    .dataframe tbody tr th {\n",
       "        vertical-align: top;\n",
       "    }\n",
       "\n",
       "    .dataframe thead th {\n",
       "        text-align: right;\n",
       "    }\n",
       "</style>\n",
       "<table border=\"1\" class=\"dataframe\">\n",
       "  <thead>\n",
       "    <tr style=\"text-align: right;\">\n",
       "      <th></th>\n",
       "      <th>show_id</th>\n",
       "      <th>type</th>\n",
       "      <th>title</th>\n",
       "      <th>director</th>\n",
       "      <th>cast</th>\n",
       "      <th>country</th>\n",
       "      <th>date_added</th>\n",
       "      <th>release_year</th>\n",
       "      <th>rating</th>\n",
       "      <th>duration</th>\n",
       "      <th>listed_in</th>\n",
       "      <th>description</th>\n",
       "    </tr>\n",
       "  </thead>\n",
       "  <tbody>\n",
       "    <tr>\n",
       "      <th>0</th>\n",
       "      <td>s1</td>\n",
       "      <td>Movie</td>\n",
       "      <td>Dick Johnson Is Dead</td>\n",
       "      <td>Unknown</td>\n",
       "      <td>Unknown</td>\n",
       "      <td>United States</td>\n",
       "      <td>September 25, 2021</td>\n",
       "      <td>2020</td>\n",
       "      <td>PG-13</td>\n",
       "      <td>90 min</td>\n",
       "      <td>Documentaries</td>\n",
       "      <td>As her father nears the end of his life, filmm...</td>\n",
       "    </tr>\n",
       "    <tr>\n",
       "      <th>1</th>\n",
       "      <td>s2</td>\n",
       "      <td>TV Show</td>\n",
       "      <td>Blood &amp; Water</td>\n",
       "      <td>Unknown</td>\n",
       "      <td>Ama Qamata, Khosi Ngema, Gail Mabalane, Thaban...</td>\n",
       "      <td>South Africa</td>\n",
       "      <td>September 24, 2021</td>\n",
       "      <td>2021</td>\n",
       "      <td>TV-MA</td>\n",
       "      <td>2 Seasons</td>\n",
       "      <td>International TV Shows, TV Dramas, TV Mysteries</td>\n",
       "      <td>After crossing paths at a party, a Cape Town t...</td>\n",
       "    </tr>\n",
       "    <tr>\n",
       "      <th>2</th>\n",
       "      <td>s3</td>\n",
       "      <td>TV Show</td>\n",
       "      <td>Ganglands</td>\n",
       "      <td>Unknown</td>\n",
       "      <td>Sami Bouajila, Tracy Gotoas, Samuel Jouy, Nabi...</td>\n",
       "      <td>Unknown</td>\n",
       "      <td>September 24, 2021</td>\n",
       "      <td>2021</td>\n",
       "      <td>TV-MA</td>\n",
       "      <td>1 Season</td>\n",
       "      <td>Crime TV Shows, International TV Shows, TV Act...</td>\n",
       "      <td>To protect his family from a powerful drug lor...</td>\n",
       "    </tr>\n",
       "    <tr>\n",
       "      <th>3</th>\n",
       "      <td>s4</td>\n",
       "      <td>TV Show</td>\n",
       "      <td>Jailbirds New Orleans</td>\n",
       "      <td>Unknown</td>\n",
       "      <td>Unknown</td>\n",
       "      <td>Unknown</td>\n",
       "      <td>September 24, 2021</td>\n",
       "      <td>2021</td>\n",
       "      <td>TV-MA</td>\n",
       "      <td>1 Season</td>\n",
       "      <td>Docuseries, Reality TV</td>\n",
       "      <td>Feuds, flirtations and toilet talk go down amo...</td>\n",
       "    </tr>\n",
       "    <tr>\n",
       "      <th>4</th>\n",
       "      <td>s5</td>\n",
       "      <td>TV Show</td>\n",
       "      <td>Kota Factory</td>\n",
       "      <td>Unknown</td>\n",
       "      <td>Mayur More, Jitendra Kumar, Ranjan Raj, Alam K...</td>\n",
       "      <td>India</td>\n",
       "      <td>September 24, 2021</td>\n",
       "      <td>2021</td>\n",
       "      <td>TV-MA</td>\n",
       "      <td>2 Seasons</td>\n",
       "      <td>International TV Shows, Romantic TV Shows, TV ...</td>\n",
       "      <td>In a city of coaching centers known to train I...</td>\n",
       "    </tr>\n",
       "  </tbody>\n",
       "</table>\n",
       "</div>"
      ],
      "text/plain": [
       "  show_id     type                  title director  \\\n",
       "0      s1    Movie   Dick Johnson Is Dead  Unknown   \n",
       "1      s2  TV Show          Blood & Water  Unknown   \n",
       "2      s3  TV Show              Ganglands  Unknown   \n",
       "3      s4  TV Show  Jailbirds New Orleans  Unknown   \n",
       "4      s5  TV Show           Kota Factory  Unknown   \n",
       "\n",
       "                                                cast        country  \\\n",
       "0                                            Unknown  United States   \n",
       "1  Ama Qamata, Khosi Ngema, Gail Mabalane, Thaban...   South Africa   \n",
       "2  Sami Bouajila, Tracy Gotoas, Samuel Jouy, Nabi...        Unknown   \n",
       "3                                            Unknown        Unknown   \n",
       "4  Mayur More, Jitendra Kumar, Ranjan Raj, Alam K...          India   \n",
       "\n",
       "           date_added  release_year rating   duration  \\\n",
       "0  September 25, 2021          2020  PG-13     90 min   \n",
       "1  September 24, 2021          2021  TV-MA  2 Seasons   \n",
       "2  September 24, 2021          2021  TV-MA   1 Season   \n",
       "3  September 24, 2021          2021  TV-MA   1 Season   \n",
       "4  September 24, 2021          2021  TV-MA  2 Seasons   \n",
       "\n",
       "                                           listed_in  \\\n",
       "0                                      Documentaries   \n",
       "1    International TV Shows, TV Dramas, TV Mysteries   \n",
       "2  Crime TV Shows, International TV Shows, TV Act...   \n",
       "3                             Docuseries, Reality TV   \n",
       "4  International TV Shows, Romantic TV Shows, TV ...   \n",
       "\n",
       "                                         description  \n",
       "0  As her father nears the end of his life, filmm...  \n",
       "1  After crossing paths at a party, a Cape Town t...  \n",
       "2  To protect his family from a powerful drug lor...  \n",
       "3  Feuds, flirtations and toilet talk go down amo...  \n",
       "4  In a city of coaching centers known to train I...  "
      ]
     },
     "execution_count": 44,
     "metadata": {},
     "output_type": "execute_result"
    }
   ],
   "source": [
    "df.head()"
   ]
  },
  {
   "cell_type": "code",
   "execution_count": 43,
   "id": "e8e61617-5c3f-4af4-9fe0-4134d2721ab4",
   "metadata": {},
   "outputs": [
    {
     "data": {
      "text/html": [
       "<div>\n",
       "<style scoped>\n",
       "    .dataframe tbody tr th:only-of-type {\n",
       "        vertical-align: middle;\n",
       "    }\n",
       "\n",
       "    .dataframe tbody tr th {\n",
       "        vertical-align: top;\n",
       "    }\n",
       "\n",
       "    .dataframe thead th {\n",
       "        text-align: right;\n",
       "    }\n",
       "</style>\n",
       "<table border=\"1\" class=\"dataframe\">\n",
       "  <thead>\n",
       "    <tr style=\"text-align: right;\">\n",
       "      <th></th>\n",
       "      <th>title</th>\n",
       "      <th>type</th>\n",
       "    </tr>\n",
       "  </thead>\n",
       "  <tbody>\n",
       "    <tr>\n",
       "      <th>0</th>\n",
       "      <td>Dick Johnson Is Dead</td>\n",
       "      <td>Movie</td>\n",
       "    </tr>\n",
       "    <tr>\n",
       "      <th>1</th>\n",
       "      <td>Blood &amp; Water</td>\n",
       "      <td>TV Show</td>\n",
       "    </tr>\n",
       "    <tr>\n",
       "      <th>2</th>\n",
       "      <td>Ganglands</td>\n",
       "      <td>TV Show</td>\n",
       "    </tr>\n",
       "    <tr>\n",
       "      <th>3</th>\n",
       "      <td>Jailbirds New Orleans</td>\n",
       "      <td>TV Show</td>\n",
       "    </tr>\n",
       "    <tr>\n",
       "      <th>4</th>\n",
       "      <td>Kota Factory</td>\n",
       "      <td>TV Show</td>\n",
       "    </tr>\n",
       "  </tbody>\n",
       "</table>\n",
       "</div>"
      ],
      "text/plain": [
       "                   title     type\n",
       "0   Dick Johnson Is Dead    Movie\n",
       "1          Blood & Water  TV Show\n",
       "2              Ganglands  TV Show\n",
       "3  Jailbirds New Orleans  TV Show\n",
       "4           Kota Factory  TV Show"
      ]
     },
     "execution_count": 43,
     "metadata": {},
     "output_type": "execute_result"
    }
   ],
   "source": [
    "df[[\"title\",\"type\"]].head()"
   ]
  },
  {
   "cell_type": "code",
   "execution_count": 51,
   "id": "9ecf8e2a-3196-41e3-a261-505a4ca857be",
   "metadata": {},
   "outputs": [
    {
     "name": "stdout",
     "output_type": "stream",
     "text": [
      "   show_id   type                             title director  \\\n",
      "0       s1  Movie              Dick Johnson Is Dead  Unknown   \n",
      "6       s7  Movie  My Little Pony: A New Generation  Unknown   \n",
      "7       s8  Movie                           Sankofa  Unknown   \n",
      "9      s10  Movie                      The Starling  Unknown   \n",
      "12     s13  Movie                      Je Suis Karl  Unknown   \n",
      "\n",
      "                                                 cast  \\\n",
      "0                                             Unknown   \n",
      "6   Vanessa Hudgens, Kimiko Glenn, James Marsden, ...   \n",
      "7   Kofi Ghanaba, Oyafunmike Ogunlano, Alexandra D...   \n",
      "9   Melissa McCarthy, Chris O'Dowd, Kevin Kline, T...   \n",
      "12  Luna Wedler, Jannis Niewöhner, Milan Peschel, ...   \n",
      "\n",
      "                                              country          date_added  \\\n",
      "0                                       United States  September 25, 2021   \n",
      "6                                             Unknown  September 24, 2021   \n",
      "7   United States, Ghana, Burkina Faso, United Kin...  September 24, 2021   \n",
      "9                                       United States  September 24, 2021   \n",
      "12                            Germany, Czech Republic  September 23, 2021   \n",
      "\n",
      "    release_year rating duration  \\\n",
      "0           2020  PG-13   90 min   \n",
      "6           2021     PG   91 min   \n",
      "7           1993  TV-MA  125 min   \n",
      "9           2021  PG-13  104 min   \n",
      "12          2021  TV-MA  127 min   \n",
      "\n",
      "                                           listed_in  \\\n",
      "0                                      Documentaries   \n",
      "6                           Children & Family Movies   \n",
      "7   Dramas, Independent Movies, International Movies   \n",
      "9                                   Comedies, Dramas   \n",
      "12                      Dramas, International Movies   \n",
      "\n",
      "                                          description  \n",
      "0   As her father nears the end of his life, filmm...  \n",
      "6   Equestria's divided. But a bright-eyed hero be...  \n",
      "7   On a photo shoot in Ghana, an American model s...  \n",
      "9   A woman adjusting to life after a loss contend...  \n",
      "12  After most of her family is murdered in a terr...  \n"
     ]
    }
   ],
   "source": [
    "movs = df[df[\"type\"] == \"Movie\"]\n",
    "print(movs.head())"
   ]
  },
  {
   "cell_type": "code",
   "execution_count": 50,
   "id": "b912ffb3-1e8a-4ec9-a6cd-cb6b922b8714",
   "metadata": {},
   "outputs": [
    {
     "name": "stdout",
     "output_type": "stream",
     "text": [
      "    show_id   type                               title director  \\\n",
      "180    s181  Movie  The Nutty Professor II: The Klumps  Unknown   \n",
      "350    s351  Movie                       Space Cowboys  Unknown   \n",
      "359    s360  Movie        The Original Kings of Comedy  Unknown   \n",
      "566    s567  Movie                    Charlie's Angels  Unknown   \n",
      "593    s594  Movie                            Snow Day  Unknown   \n",
      "\n",
      "                                                  cast  \\\n",
      "180  Eddie Murphy, Janet Jackson, Larry Miller, Joh...   \n",
      "350  Clint Eastwood, Tommy Lee Jones, Donald Suther...   \n",
      "359  Steve Harvey, D.L. Hughley, Cedric the Enterta...   \n",
      "566  Cameron Diaz, Drew Barrymore, Lucy Liu, Bill M...   \n",
      "593  Chris Elliott, Mark Webber, Jean Smart, Schuyl...   \n",
      "\n",
      "                    country         date_added  release_year rating duration  \\\n",
      "180                 Unknown  September 1, 2021          2000  PG-13  107 min   \n",
      "350           United States     August 1, 2021          2000  PG-13  130 min   \n",
      "359           United States     August 1, 2021          2000      R  111 min   \n",
      "566  United States, Germany       July 1, 2021          2000  PG-13   98 min   \n",
      "593           United States       July 1, 2021          2000     PG   89 min   \n",
      "\n",
      "                                        listed_in  \\\n",
      "180                     Comedies, Romantic Movies   \n",
      "350  Action & Adventure, Dramas, Sci-Fi & Fantasy   \n",
      "359                               Stand-Up Comedy   \n",
      "566                  Action & Adventure, Comedies   \n",
      "593            Children & Family Movies, Comedies   \n",
      "\n",
      "                                           description  \n",
      "180  After getting engaged, Sherman Klump prepares ...  \n",
      "350  A retired engineer agrees to help NASA prevent...  \n",
      "359  Comedians Steve Harvey, Cedric the Entertainer...  \n",
      "566  A tight-knit trio of specially trained agents ...  \n",
      "593  When a snow day shuts down the whole town, the...  \n"
     ]
    }
   ],
   "source": [
    "yr2000 = df[df[\"release_year\"] == 2000]\n",
    "print(yr2000.head())"
   ]
  },
  {
   "cell_type": "code",
   "execution_count": 21,
   "id": "0ee53101-88ca-4263-acad-10fd457d6c74",
   "metadata": {},
   "outputs": [
    {
     "name": "stdout",
     "output_type": "stream",
     "text": [
      "     show_id     type                                title          director  \\\n",
      "0         s1    Movie                 Dick Johnson Is Dead   Kirsten Johnson   \n",
      "1         s2  TV Show                        Blood & Water               NaN   \n",
      "2         s3  TV Show                            Ganglands   Julien Leclercq   \n",
      "3         s4  TV Show                Jailbirds New Orleans               NaN   \n",
      "4         s5  TV Show                         Kota Factory               NaN   \n",
      "...      ...      ...                                  ...               ...   \n",
      "8742   s8743    Movie                       Wild Wild West  Barry Sonnenfeld   \n",
      "8743   s8744    Movie                             Wildlife         Paul Dano   \n",
      "8745   s8746    Movie  Willy Wonka & the Chocolate Factory        Mel Stuart   \n",
      "8764   s8765    Movie                           Wyatt Earp   Lawrence Kasdan   \n",
      "8805   s8806    Movie                                 Zoom      Peter Hewitt   \n",
      "\n",
      "                                                   cast  \\\n",
      "0                                                   NaN   \n",
      "1     Ama Qamata, Khosi Ngema, Gail Mabalane, Thaban...   \n",
      "2     Sami Bouajila, Tracy Gotoas, Samuel Jouy, Nabi...   \n",
      "3                                                   NaN   \n",
      "4     Mayur More, Jitendra Kumar, Ranjan Raj, Alam K...   \n",
      "...                                                 ...   \n",
      "8742  Will Smith, Kevin Kline, Kenneth Branagh, Salm...   \n",
      "8743  Carey Mulligan, Ed Oxenbould, Bill Camp, Jake ...   \n",
      "8745  Gene Wilder, Jack Albertson, Peter Ostrum, Roy...   \n",
      "8764  Kevin Costner, Dennis Quaid, Gene Hackman, Dav...   \n",
      "8805  Tim Allen, Courteney Cox, Chevy Chase, Kate Ma...   \n",
      "\n",
      "                                        country          date_added  \\\n",
      "0                                 United States  September 25, 2021   \n",
      "1                                  South Africa  September 24, 2021   \n",
      "2                                           NaN  September 24, 2021   \n",
      "3                                           NaN  September 24, 2021   \n",
      "4                                         India  September 24, 2021   \n",
      "...                                         ...                 ...   \n",
      "8742                              United States     January 1, 2020   \n",
      "8743                              United States   September 1, 2020   \n",
      "8745  United States, East Germany, West Germany     January 1, 2020   \n",
      "8764                              United States     January 1, 2020   \n",
      "8805                              United States    January 11, 2020   \n",
      "\n",
      "      release_year rating   duration  \\\n",
      "0             2020  PG-13     90 min   \n",
      "1             2021  TV-MA  2 Seasons   \n",
      "2             2021  TV-MA   1 Season   \n",
      "3             2021  TV-MA   1 Season   \n",
      "4             2021  TV-MA  2 Seasons   \n",
      "...            ...    ...        ...   \n",
      "8742          1999  PG-13    106 min   \n",
      "8743          2018  PG-13    105 min   \n",
      "8745          1971      G    100 min   \n",
      "8764          1994  PG-13    191 min   \n",
      "8805          2006     PG     88 min   \n",
      "\n",
      "                                              listed_in  \\\n",
      "0                                         Documentaries   \n",
      "1       International TV Shows, TV Dramas, TV Mysteries   \n",
      "2     Crime TV Shows, International TV Shows, TV Act...   \n",
      "3                                Docuseries, Reality TV   \n",
      "4     International TV Shows, Romantic TV Shows, TV ...   \n",
      "...                                                 ...   \n",
      "8742     Action & Adventure, Comedies, Sci-Fi & Fantasy   \n",
      "8743                         Dramas, Independent Movies   \n",
      "8745  Children & Family Movies, Classic Movies, Come...   \n",
      "8764                                 Action & Adventure   \n",
      "8805                 Children & Family Movies, Comedies   \n",
      "\n",
      "                                            description  \n",
      "0     As her father nears the end of his life, filmm...  \n",
      "1     After crossing paths at a party, a Cape Town t...  \n",
      "2     To protect his family from a powerful drug lor...  \n",
      "3     Feuds, flirtations and toilet talk go down amo...  \n",
      "4     In a city of coaching centers known to train I...  \n",
      "...                                                 ...  \n",
      "8742  Armed with an ingenious arsenal, two top-notch...  \n",
      "8743  A teen’s life in 1960 Montana grows complicate...  \n",
      "8745  Zany Willy Wonka causes a stir when he announc...  \n",
      "8764  Legendary lawman Wyatt Earp is continually at ...  \n",
      "8805  Dragged from civilian life, a former superhero...  \n",
      "\n",
      "[3376 rows x 12 columns]\n"
     ]
    }
   ],
   "source": [
    "time= pd.to_datetime(df[\"date_added\"],errors = \"coerce\")\n",
    "recent = df[time >= \"2020-01-01\"]\n",
    "print(recent)"
   ]
  },
  {
   "cell_type": "code",
   "execution_count": 40,
   "id": "c159ff51-4dc5-4871-b19c-50a341c68bf3",
   "metadata": {},
   "outputs": [
    {
     "name": "stdout",
     "output_type": "stream",
     "text": [
      "     show_id     type                               title director  \\\n",
      "4         s5  TV Show                        Kota Factory  Unknown   \n",
      "39       s40  TV Show                        Chhota Bheem  Unknown   \n",
      "50       s51  TV Show                       Dharmakshetra  Unknown   \n",
      "66       s67  TV Show       Raja Rasoi Aur Anya Kahaniyan  Unknown   \n",
      "69       s70  TV Show      Stories by Rabindranath Tagore  Unknown   \n",
      "...      ...      ...                                 ...      ...   \n",
      "8173   s8174  TV Show                           Thackeray  Unknown   \n",
      "8235   s8236  TV Show                         The Calling  Unknown   \n",
      "8321   s8322  TV Show  The Golden Years with Javed Akhtar  Unknown   \n",
      "8349   s8350  TV Show              The House That Made Me  Unknown   \n",
      "8775   s8776  TV Show                     Yeh Meri Family  Unknown   \n",
      "\n",
      "                                                   cast country  \\\n",
      "4     Mayur More, Jitendra Kumar, Ranjan Raj, Alam K...   India   \n",
      "39    Vatsal Dubey, Julie Tejwani, Rupa Bhimani, Jig...   India   \n",
      "50    Kashmira Irani, Chandan Anand, Dinesh Mehta, A...   India   \n",
      "66                                              Unknown   India   \n",
      "69                                              Unknown   India   \n",
      "...                                                 ...     ...   \n",
      "8173                                            Unknown   India   \n",
      "8235                                            Unknown   India   \n",
      "8321                                            Unknown   India   \n",
      "8349                                       Vinay Pathak   India   \n",
      "8775  Vishesh Bansal, Mona Singh, Akarsh Khurana, Ah...   India   \n",
      "\n",
      "              date_added  release_year rating   duration  \\\n",
      "4     September 24, 2021          2021  TV-MA  2 Seasons   \n",
      "39    September 16, 2021          2021  TV-Y7  3 Seasons   \n",
      "50    September 15, 2021          2014  TV-PG   1 Season   \n",
      "66    September 15, 2021          2014   TV-G   1 Season   \n",
      "69    September 15, 2021          2015  TV-PG   1 Season   \n",
      "...                  ...           ...    ...        ...   \n",
      "8173        May 25, 2019          2019  TV-MA   1 Season   \n",
      "8235       April 1, 2019          2018  TV-MA   1 Season   \n",
      "8321        June 1, 2017          2016   TV-G   1 Season   \n",
      "8349      March 31, 2017          2015  TV-PG  3 Seasons   \n",
      "8775     August 31, 2018          2018  TV-PG   1 Season   \n",
      "\n",
      "                                              listed_in  \\\n",
      "4     International TV Shows, Romantic TV Shows, TV ...   \n",
      "39                                             Kids' TV   \n",
      "50    International TV Shows, TV Dramas, TV Sci-Fi &...   \n",
      "66                   Docuseries, International TV Shows   \n",
      "69                    International TV Shows, TV Dramas   \n",
      "...                                                 ...   \n",
      "8173                                           TV Shows   \n",
      "8235                 International TV Shows, Reality TV   \n",
      "8321                 Docuseries, International TV Shows   \n",
      "8349                 International TV Shows, Reality TV   \n",
      "8775                International TV Shows, TV Comedies   \n",
      "\n",
      "                                            description  \n",
      "4     In a city of coaching centers known to train I...  \n",
      "39    A brave, energetic little boy with superhuman ...  \n",
      "50    After the ancient Great War, the god Chitragup...  \n",
      "66    Explore the history and flavors of regional In...  \n",
      "69    The writings of Nobel Prize winner Rabindranat...  \n",
      "...                                                 ...  \n",
      "8173  From controversial cartoonist to powerful Mumb...  \n",
      "8235  Food-crazed travel junkies journey across Indi...  \n",
      "8321  Writer, poet and lyricist Javed Akhtar hosts t...  \n",
      "8349  With host Vinay Pathak, Indian celebrities ret...  \n",
      "8775  In the summer of 1998, middle child Harshu bal...  \n",
      "\n",
      "[79 rows x 12 columns]\n"
     ]
    }
   ],
   "source": [
    "fav = df[(df[\"type\"] == \"TV Show\") & (df[\"country\"] == \"India\") & (df[\"release_year\"] >= 2000)]\n",
    "print(fav)"
   ]
  },
  {
   "cell_type": "markdown",
   "id": "39b658dd-67fd-48ba-96ee-690e1a906afb",
   "metadata": {},
   "source": [
    "Cleaning of the Dataset"
   ]
  },
  {
   "cell_type": "code",
   "execution_count": 23,
   "id": "a9058bfe-885b-44a4-888c-e23e42760853",
   "metadata": {},
   "outputs": [
    {
     "data": {
      "text/plain": [
       "show_id            0\n",
       "type               0\n",
       "title              0\n",
       "director        2634\n",
       "cast             825\n",
       "country          831\n",
       "date_added        10\n",
       "release_year       0\n",
       "rating             4\n",
       "duration           3\n",
       "listed_in          0\n",
       "description        0\n",
       "dtype: int64"
      ]
     },
     "execution_count": 23,
     "metadata": {},
     "output_type": "execute_result"
    }
   ],
   "source": [
    "df.isnull().sum()"
   ]
  },
  {
   "cell_type": "code",
   "execution_count": 24,
   "id": "62ce85fd-7a76-4a51-88a3-4dcd30a67e2a",
   "metadata": {},
   "outputs": [],
   "source": [
    "df = df.dropna(subset = [\"date_added\"])"
   ]
  },
  {
   "cell_type": "code",
   "execution_count": 35,
   "id": "efc15629-4383-443b-8543-b6461cec3d2a",
   "metadata": {},
   "outputs": [],
   "source": [
    "df = df.copy()\n",
    "df[\"director\"] = df[\"director\"].fillna(\"Unknown\")\n",
    "df[\"cast\"] = df[\"cast\"].fillna(\"Unknown\")\n",
    "df[\"country\"] = df[\"country\"].fillna(\"Unknown\")\n",
    "df[\"rating\"] = df[\"rating\"].fillna(\"UnRated\")"
   ]
  },
  {
   "cell_type": "code",
   "execution_count": 31,
   "id": "6722f3fe-9e79-4f27-a4a9-addc3056783d",
   "metadata": {},
   "outputs": [
    {
     "name": "stdout",
     "output_type": "stream",
     "text": [
      "<class 'pandas.core.frame.DataFrame'>\n",
      "Index: 8797 entries, 0 to 8806\n",
      "Data columns (total 12 columns):\n",
      " #   Column        Non-Null Count  Dtype \n",
      "---  ------        --------------  ----- \n",
      " 0   show_id       8797 non-null   object\n",
      " 1   type          8797 non-null   object\n",
      " 2   title         8797 non-null   object\n",
      " 3   director      8797 non-null   object\n",
      " 4   cast          8797 non-null   object\n",
      " 5   country       8797 non-null   object\n",
      " 6   date_added    8797 non-null   object\n",
      " 7   release_year  8797 non-null   int64 \n",
      " 8   rating        8793 non-null   object\n",
      " 9   duration      8794 non-null   object\n",
      " 10  listed_in     8797 non-null   object\n",
      " 11  description   8797 non-null   object\n",
      "dtypes: int64(1), object(11)\n",
      "memory usage: 893.4+ KB\n"
     ]
    }
   ],
   "source": [
    "df.info()"
   ]
  },
  {
   "cell_type": "code",
   "execution_count": 56,
   "id": "405066d9-1df5-4d48-b7a7-1ff14f11a155",
   "metadata": {},
   "outputs": [
    {
     "data": {
      "text/plain": [
       "show_id         0\n",
       "type            0\n",
       "title           0\n",
       "director        0\n",
       "cast            0\n",
       "country         0\n",
       "date_added      0\n",
       "release_year    0\n",
       "rating          0\n",
       "duration        0\n",
       "listed_in       0\n",
       "description     0\n",
       "dtype: int64"
      ]
     },
     "execution_count": 56,
     "metadata": {},
     "output_type": "execute_result"
    }
   ],
   "source": [
    "df.isnull().sum()"
   ]
  },
  {
   "cell_type": "markdown",
   "id": "412c43e2-5f46-4d16-a968-b6624ff93357",
   "metadata": {},
   "source": [
    "Exploring and Manipulation"
   ]
  },
  {
   "cell_type": "code",
   "execution_count": 55,
   "id": "2f6ad6ec-5e3d-4bd1-a7e4-2eb13a7b0b6e",
   "metadata": {},
   "outputs": [
    {
     "data": {
      "text/html": [
       "<div>\n",
       "<style scoped>\n",
       "    .dataframe tbody tr th:only-of-type {\n",
       "        vertical-align: middle;\n",
       "    }\n",
       "\n",
       "    .dataframe tbody tr th {\n",
       "        vertical-align: top;\n",
       "    }\n",
       "\n",
       "    .dataframe thead th {\n",
       "        text-align: right;\n",
       "    }\n",
       "</style>\n",
       "<table border=\"1\" class=\"dataframe\">\n",
       "  <thead>\n",
       "    <tr style=\"text-align: right;\">\n",
       "      <th></th>\n",
       "      <th>show_id</th>\n",
       "      <th>type</th>\n",
       "      <th>title</th>\n",
       "      <th>director</th>\n",
       "      <th>cast</th>\n",
       "      <th>country</th>\n",
       "      <th>date_added</th>\n",
       "      <th>release_year</th>\n",
       "      <th>rating</th>\n",
       "      <th>duration</th>\n",
       "      <th>listed_in</th>\n",
       "      <th>description</th>\n",
       "    </tr>\n",
       "  </thead>\n",
       "  <tbody>\n",
       "    <tr>\n",
       "      <th>693</th>\n",
       "      <td>s694</td>\n",
       "      <td>Movie</td>\n",
       "      <td>Ali &amp; Ratu Ratu Queens</td>\n",
       "      <td>Unknown</td>\n",
       "      <td>Iqbaal Ramadhan, Nirina Zubir, Asri Welas, Tik...</td>\n",
       "      <td>Unknown</td>\n",
       "      <td>June 17, 2021</td>\n",
       "      <td>2021</td>\n",
       "      <td>TV-14</td>\n",
       "      <td>101 min</td>\n",
       "      <td>Comedies, Dramas, International Movies</td>\n",
       "      <td>After his father's passing, a teenager sets ou...</td>\n",
       "    </tr>\n",
       "    <tr>\n",
       "      <th>781</th>\n",
       "      <td>s782</td>\n",
       "      <td>Movie</td>\n",
       "      <td>Black Holes | The Edge of All We Know</td>\n",
       "      <td>Unknown</td>\n",
       "      <td>Unknown</td>\n",
       "      <td>Unknown</td>\n",
       "      <td>June 2, 2021</td>\n",
       "      <td>2021</td>\n",
       "      <td>TV-14</td>\n",
       "      <td>99 min</td>\n",
       "      <td>Documentaries</td>\n",
       "      <td>Follow scientists on their quest to understand...</td>\n",
       "    </tr>\n",
       "    <tr>\n",
       "      <th>762</th>\n",
       "      <td>s763</td>\n",
       "      <td>Movie</td>\n",
       "      <td>Sweet &amp; Sour</td>\n",
       "      <td>Unknown</td>\n",
       "      <td>Jang Ki-yong, Chae Soo-bin, Jung Soo-jung</td>\n",
       "      <td>South Korea</td>\n",
       "      <td>June 4, 2021</td>\n",
       "      <td>2021</td>\n",
       "      <td>TV-14</td>\n",
       "      <td>103 min</td>\n",
       "      <td>Comedies, International Movies, Romantic Movies</td>\n",
       "      <td>Faced with real-world opportunities and challe...</td>\n",
       "    </tr>\n",
       "    <tr>\n",
       "      <th>763</th>\n",
       "      <td>s764</td>\n",
       "      <td>TV Show</td>\n",
       "      <td>Sweet Tooth</td>\n",
       "      <td>Unknown</td>\n",
       "      <td>Nonso Anozie, Christian Convery, Adeel Akhtar,...</td>\n",
       "      <td>United States</td>\n",
       "      <td>June 4, 2021</td>\n",
       "      <td>2021</td>\n",
       "      <td>TV-14</td>\n",
       "      <td>1 Season</td>\n",
       "      <td>TV Action &amp; Adventure, TV Dramas, TV Sci-Fi &amp; ...</td>\n",
       "      <td>On a perilous adventure across a post-apocalyp...</td>\n",
       "    </tr>\n",
       "    <tr>\n",
       "      <th>764</th>\n",
       "      <td>s765</td>\n",
       "      <td>Movie</td>\n",
       "      <td>Trippin' with the Kandasamys</td>\n",
       "      <td>Unknown</td>\n",
       "      <td>Jailoshini Naidoo, Maeshni Naicker, Madhushan ...</td>\n",
       "      <td>South Africa</td>\n",
       "      <td>June 4, 2021</td>\n",
       "      <td>2021</td>\n",
       "      <td>TV-14</td>\n",
       "      <td>94 min</td>\n",
       "      <td>Comedies, International Movies, Romantic Movies</td>\n",
       "      <td>To rekindle their marriages, best friends-turn...</td>\n",
       "    </tr>\n",
       "  </tbody>\n",
       "</table>\n",
       "</div>"
      ],
      "text/plain": [
       "    show_id     type                                  title director  \\\n",
       "693    s694    Movie                 Ali & Ratu Ratu Queens  Unknown   \n",
       "781    s782    Movie  Black Holes | The Edge of All We Know  Unknown   \n",
       "762    s763    Movie                           Sweet & Sour  Unknown   \n",
       "763    s764  TV Show                            Sweet Tooth  Unknown   \n",
       "764    s765    Movie           Trippin' with the Kandasamys  Unknown   \n",
       "\n",
       "                                                  cast        country  \\\n",
       "693  Iqbaal Ramadhan, Nirina Zubir, Asri Welas, Tik...        Unknown   \n",
       "781                                            Unknown        Unknown   \n",
       "762          Jang Ki-yong, Chae Soo-bin, Jung Soo-jung    South Korea   \n",
       "763  Nonso Anozie, Christian Convery, Adeel Akhtar,...  United States   \n",
       "764  Jailoshini Naidoo, Maeshni Naicker, Madhushan ...   South Africa   \n",
       "\n",
       "        date_added  release_year rating  duration  \\\n",
       "693  June 17, 2021          2021  TV-14   101 min   \n",
       "781   June 2, 2021          2021  TV-14    99 min   \n",
       "762   June 4, 2021          2021  TV-14   103 min   \n",
       "763   June 4, 2021          2021  TV-14  1 Season   \n",
       "764   June 4, 2021          2021  TV-14    94 min   \n",
       "\n",
       "                                             listed_in  \\\n",
       "693             Comedies, Dramas, International Movies   \n",
       "781                                      Documentaries   \n",
       "762    Comedies, International Movies, Romantic Movies   \n",
       "763  TV Action & Adventure, TV Dramas, TV Sci-Fi & ...   \n",
       "764    Comedies, International Movies, Romantic Movies   \n",
       "\n",
       "                                           description  \n",
       "693  After his father's passing, a teenager sets ou...  \n",
       "781  Follow scientists on their quest to understand...  \n",
       "762  Faced with real-world opportunities and challe...  \n",
       "763  On a perilous adventure across a post-apocalyp...  \n",
       "764  To rekindle their marriages, best friends-turn...  "
      ]
     },
     "execution_count": 55,
     "metadata": {},
     "output_type": "execute_result"
    }
   ],
   "source": [
    "#Getting latest shows\n",
    "df.sort_values(\"release_year\",ascending = False).head()"
   ]
  },
  {
   "cell_type": "code",
   "execution_count": 58,
   "id": "46b7cf9f-7ae8-4a0f-8fab-ffdc408184e5",
   "metadata": {},
   "outputs": [
    {
     "data": {
      "text/plain": [
       "type\n",
       "Movie      6131\n",
       "TV Show    2666\n",
       "Name: count, dtype: int64"
      ]
     },
     "execution_count": 58,
     "metadata": {},
     "output_type": "execute_result"
    }
   ],
   "source": [
    "#How many movies and series are listed\n",
    "df[\"type\"].value_counts()"
   ]
  },
  {
   "cell_type": "code",
   "execution_count": 61,
   "id": "65b13d7e-5334-4913-a764-a12edfd3dc20",
   "metadata": {},
   "outputs": [
    {
     "data": {
      "text/plain": [
       "rating\n",
       "TV-MA       3205\n",
       "TV-14       2157\n",
       "TV-PG        861\n",
       "R            799\n",
       "PG-13        490\n",
       "TV-Y7        333\n",
       "TV-Y         306\n",
       "PG           287\n",
       "TV-G         220\n",
       "NR            79\n",
       "G             41\n",
       "TV-Y7-FV       6\n",
       "UnRated        4\n",
       "NC-17          3\n",
       "UR             3\n",
       "74 min         1\n",
       "84 min         1\n",
       "66 min         1\n",
       "Name: title, dtype: int64"
      ]
     },
     "execution_count": 61,
     "metadata": {},
     "output_type": "execute_result"
    }
   ],
   "source": [
    "#how many of which rating are there\n",
    "df.groupby(\"rating\")[\"title\"].count().sort_values(ascending = False)"
   ]
  },
  {
   "cell_type": "code",
   "execution_count": 68,
   "id": "c1467615-d214-4e48-a341-e4fa4402ba37",
   "metadata": {},
   "outputs": [
    {
     "data": {
      "text/plain": [
       "(8797, 12)"
      ]
     },
     "execution_count": 68,
     "metadata": {},
     "output_type": "execute_result"
    }
   ],
   "source": [
    "#total rows and cols now\n",
    "df.shape"
   ]
  },
  {
   "cell_type": "markdown",
   "id": "64e34426-29ff-485b-b6e1-d7e1ba368d1b",
   "metadata": {},
   "source": [
    "Visulization of the Data"
   ]
  },
  {
   "cell_type": "code",
   "execution_count": 74,
   "id": "abb59f7a-d7e8-4bac-88d6-e1406787a876",
   "metadata": {},
   "outputs": [
    {
     "data": {
      "image/png": "[encoded data removed]",
      "text/plain": [
       "<Figure size 640x480 with 1 Axes>"
      ]
     },
     "metadata": {},
     "output_type": "display_data"
    }
   ],
   "source": [
    "df[\"type\"].value_counts().plot(kind = \"bar\", color = [\"skyblue\",\"salmon\"])\n",
    "plt.title(\"Distribution of types of content\")\n",
    "plt.xlabel(\"type\")\n",
    "plt.ylabel(\"count\")\n",
    "plt.show()"
   ]
  },
  {
   "cell_type": "code",
   "execution_count": 82,
   "id": "042c0313-f757-4108-9a2a-1e87962476dc",
   "metadata": {},
   "outputs": [
    {
     "data": {
      "image/png": "[encoded data removed]",
      "text/plain": [
       "<Figure size 640x480 with 1 Axes>"
      ]
     },
     "metadata": {},
     "output_type": "display_data"
    }
   ],
   "source": [
    "df[\"date_added\"] = pd.to_datetime(df[\"date_added\"], errors=\"coerce\")\n",
    "df[\"year_added\"] = df[\"date_added\"].dt.year \n",
    "df[\"year_added\"].value_counts().sort_index().plot(kind = \"line\",marker = \"*\")\n",
    "plt.title(\"No. of netflix titles through out years\")\n",
    "plt.xlabel(\"year\")\n",
    "plt.ylabel(\"Count\")\n",
    "plt.grid(True)\n",
    "plt.show()"
   ]
  },
  {
   "cell_type": "code",
   "execution_count": 83,
   "id": "1de25951-a857-4e09-9601-4aab31b400d8",
   "metadata": {},
   "outputs": [
    {
     "data": {
      "image/png": "[encoded data removed]",
      "text/plain": [
       "<Figure size 640x480 with 1 Axes>"
      ]
     },
     "metadata": {},
     "output_type": "display_data"
    }
   ],
   "source": [
    "df[\"rating\"].value_counts().head(5).plot(kind=\"pie\", autopct=\"%1.1f%%\", startangle=90)\n",
    "plt.title(\"Top 5 Ratings Distribution\")\n",
    "plt.ylabel(\"\")  # Hide y-axis label\n",
    "plt.show()"
   ]
  },
  {
   "cell_type": "code",
   "execution_count": 85,
   "id": "51a15190-294f-4aea-8a44-b5cd3087336a",
   "metadata": {},
   "outputs": [
    {
     "data": {
      "image/png": "[encoded data removed]",
      "text/plain": [
       "<Figure size 640x480 with 1 Axes>"
      ]
     },
     "metadata": {},
     "output_type": "display_data"
    }
   ],
   "source": [
    "df[\"year_added\"] = df[\"date_added\"].dt.year\n",
    "content_trend = df.groupby([\"year_added\", \"type\"]).size().unstack()\n",
    "content_trend.plot(kind=\"line\", marker=\"o\")\n",
    "plt.title(\"Movies vs TV Shows Added Over the Years\")\n",
    "plt.xlabel(\"Year\")\n",
    "plt.ylabel(\"Number of Titles\")\n",
    "plt.grid(True)\n",
    "plt.show()"
   ]
  },
  {
   "cell_type": "code",
   "execution_count": 87,
   "id": "4e16766d-edfd-4be2-a365-dd91a04a1d6e",
   "metadata": {},
   "outputs": [],
   "source": [
    "#exporting the file\n",
    "df.to_csv(\"cleaned_netflix_data.csv\", index=False)"
   ]
  },
  {
   "cell_type": "code",
   "execution_count": null,
   "id": "80fa217e-b9b1-4100-9825-ed38576c15bf",
   "metadata": {},
   "outputs": [],
   "source": []
  }
 ],
 "metadata": {
  "kernelspec": {
   "display_name": "Python [conda env:base] *",
   "language": "python",
   "name": "conda-base-py"
  },
  "language_info": {
   "codemirror_mode": {
    "name": "ipython",
    "version": 3
   },
   "file_extension": ".py",
   "mimetype": "text/x-python",
   "name": "python",
   "nbconvert_exporter": "python",
   "pygments_lexer": "ipython3",
   "version": "3.12.7"
  }
 },
 "nbformat": 4,
 "nbformat_minor": 5
}
